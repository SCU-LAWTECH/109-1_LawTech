{
 "cells": [
  {
   "cell_type": "markdown",
   "metadata": {},
   "source": [
    "## 套件匯入"
   ]
  },
  {
   "cell_type": "code",
   "execution_count": null,
   "metadata": {},
   "outputs": [],
   "source": [
    "from selenium import webdriver\n",
    "from time import sleep"
   ]
  },
  {
   "cell_type": "markdown",
   "metadata": {},
   "source": [
    "## 啟動瀏覽器（https://law.judicial.gov.tw/FJUD/default.aspx )"
   ]
  },
  {
   "cell_type": "code",
   "execution_count": null,
   "metadata": {},
   "outputs": [],
   "source": [
    "# 司法院官網\n",
    "link = 'https://law.judicial.gov.tw/FJUD/default.aspx'\n",
    "\n",
    "driver = webdriver.Chrome()\n",
    "driver.get(link)\n",
    "\n",
    "# 定位輸入框，寫入搜尋 <關鍵字>\n",
    "TEXT = '證券詐欺'\n",
    "sleep(2)\n",
    "driver.find_element_by_id('txtKW').send_keys(TEXT)\n",
    "driver.find_element_by_id('btnSimpleQry').click()\n",
    "\n",
    "# 等待載入，選擇最高法院（若有）\n",
    "try:\n",
    "    driver.find_element_by_xpath(\"//div[@class='panel-body']   \\\n",
    "    //li/a[contains(text(),'最高法院')]\").click()\n",
    "except NoSuchElementException:\n",
    "    pass"
   ]
  },
  {
   "cell_type": "markdown",
   "metadata": {},
   "source": [
    "## 網頁檢索 / 爬蟲"
   ]
  },
  {
   "cell_type": "code",
   "execution_count": null,
   "metadata": {},
   "outputs": [],
   "source": [
    "# 建立須被彈性設定之變數\n",
    "TIME = '' # 109\n",
    "data = list()\n",
    "status = True\n",
    "\n",
    "# 由於定位資料於 iframe 內\n",
    "# 因此需要告知瀏覽器切換到 iframe 嵌入框才能進行定位\n",
    "iframe = driver.find_element_by_xpath(\"//iframe\")\n",
    "driver.switch_to.frame(iframe)\n",
    "\n",
    "while(status):\n",
    "    # 定位該頁所有搜尋結果之資訊，並進行迴圈檢視\n",
    "    for position,each_date in enumerate(driver.find_elements_by_xpath(\"//table//tr[position() > 1 and not(contains(@class,'summary'))]/td[3]\")):\n",
    "        if each_date.text[:len(TIME)] == (TIME ! ''):\n",
    "            xpath_to_data = \"(//table//tr[position() > 1 and not(contains(@class,'summary'))]/td[{}])[position() = {}]\"\n",
    "            data.append({\n",
    "                'title'   : driver.find_element_by_xpath(xpath_to_data.format(2,position+1)).text,\n",
    "                'date'    : driver.find_element_by_xpath(xpath_to_data.format(3,position+1)).text,\n",
    "                'judge'   : driver.find_element_by_xpath(xpath_to_data.format(4,position+1)).text,\n",
    "                'content' : '',\n",
    "                'link'    : driver.find_element_by_xpath(f'{xpath_to_data.format(2,position+1)}//a').get_attribute(\"href\")\n",
    "            })  \n",
    "    next_ = driver.find_elements_by_id('hlNext')\n",
    "    if len(next_) != 0:\n",
    "        next_[0].click()\n",
    "    else:\n",
    "        status = False"
   ]
  },
  {
   "cell_type": "markdown",
   "metadata": {},
   "source": [
    "## 指定網頁判決內容截取"
   ]
  },
  {
   "cell_type": "code",
   "execution_count": null,
   "metadata": {},
   "outputs": [],
   "source": [
    "for each in data:\n",
    "    driver = webdriver.Chrome()\n",
    "    driver.get(each['link'])\n",
    "    each['content'] = driver.find_element_by_xpath(\"(//div[@class='text-pre text-pre-in'])\").text\n",
    "    driver.close()\n",
    "    sleep(1)"
   ]
  },
  {
   "cell_type": "markdown",
   "metadata": {},
   "source": [
    "## 資料輸出"
   ]
  },
  {
   "cell_type": "code",
   "execution_count": null,
   "metadata": {},
   "outputs": [],
   "source": []
  }
 ],
 "metadata": {
  "kernelspec": {
   "display_name": "Python 3",
   "language": "python",
   "name": "python3"
  },
  "language_info": {
   "codemirror_mode": {
    "name": "ipython",
    "version": 3
   },
   "file_extension": ".py",
   "mimetype": "text/x-python",
   "name": "python",
   "nbconvert_exporter": "python",
   "pygments_lexer": "ipython3",
   "version": "3.8.3"
  }
 },
 "nbformat": 4,
 "nbformat_minor": 2
}
