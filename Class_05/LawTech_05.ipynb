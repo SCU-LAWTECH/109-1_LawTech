{
 "cells": [
  {
   "cell_type": "markdown",
   "metadata": {},
   "source": [
    "## 套件匯入"
   ]
  },
  {
   "cell_type": "code",
   "execution_count": null,
   "metadata": {},
   "outputs": [],
   "source": [
    "import requests # HTTP 請求工具\n",
    "from lxml import etree # 資料解析工具\n",
    "from time import sleep # 休息函式"
   ]
  },
  {
   "cell_type": "markdown",
   "metadata": {},
   "source": [
    "## HTTP 請求參數與鏈接"
   ]
  },
  {
   "cell_type": "code",
   "execution_count": null,
   "metadata": {},
   "outputs": [],
   "source": [
    "KEYWORD = '誹謗'\n",
    "\n",
    "link = 'https://law.moj.gov.tw/Law/LawSearchResult.aspx'\n",
    "\n",
    "params = {\n",
    "    'ty' : 'ONEBAR',\n",
    "    'kw' : f'{KEYWORD}'\n",
    "}\n",
    "\n",
    "headers = {\n",
    "    'User-Agent' : 'Mozilla/5.0 (Windows NT 10.0; Win64; x64) AppleWebKit/537.36 (KHTML, like Gecko) Chrome/86.0.4240.111 Safari/537.36'\n",
    "}"
   ]
  },
  {
   "cell_type": "markdown",
   "metadata": {},
   "source": [
    "## 發送 HTTP 請求"
   ]
  },
  {
   "cell_type": "code",
   "execution_count": null,
   "metadata": {},
   "outputs": [],
   "source": [
    "res = requests.get(link,headers=headers,params=params) # 開始請求\n",
    "print(res.status_code)"
   ]
  },
  {
   "cell_type": "markdown",
   "metadata": {},
   "source": [
    "## 資料解析"
   ]
  },
  {
   "cell_type": "code",
   "execution_count": null,
   "metadata": {},
   "outputs": [],
   "source": [
    "raw_data = etree.HTML(res.content.decode()) # 初始化套件並套用函式"
   ]
  },
  {
   "cell_type": "code",
   "execution_count": null,
   "metadata": {},
   "outputs": [],
   "source": [
    "# 開始截取所需資料\n",
    "data = [] # 用於儲存解析後資料\n",
    "LINK_FORMAT = link[:link.index('tw')+2] # 截取主鏈接\n",
    "\n",
    "for each in raw_data.xpath('//tbody//tr'): # 定位爬取項目中的大框架\n",
    "    data.append({\n",
    "        'link' : LINK_FORMAT+''.join(each.xpath('td[2]/a/@href'))[2:],\n",
    "        'date' : ''.join(each.xpath('td[2]/text()')).strip().replace('(','').replace(')',''),\n",
    "        'particular' : ''.join(each.xpath('td[2]/a/text()'))\n",
    "    }) # 將需要的資料進行資料結構設計"
   ]
  },
  {
   "cell_type": "markdown",
   "metadata": {},
   "source": [
    "## 內文爬蟲"
   ]
  },
  {
   "cell_type": "code",
   "execution_count": null,
   "metadata": {},
   "outputs": [],
   "source": [
    "for each_p in data: # 針對所爬下來的項目進行內文爬蟲，因此需要 data 中的 link 資料\n",
    "    res_each = requests.get(each_p['link'],headers=headers) # 針對每個 link 發出請求\n",
    "    if res_each.status_code == 200: # 若請求成功則進行下一環節\n",
    "        raw_each_data = etree.HTML(res_each.content.decode()) # 初始化套件並套用函式\n",
    "        rule = [] # 用於儲存內文中所需的內容\n",
    "        for each in raw_each_data.xpath(\"//div[@class='law-reg-content']/div\"): # 定位爬取項目中的大框架\n",
    "            rule.append({\n",
    "                'rule_no' : ''.join(each.xpath('div/a/text()')),\n",
    "                'rule_content' : ''.join(each.xpath('div/div/text()'))\n",
    "            }) # 將需要的資料進行資料結構設計\n",
    "        each_p['rule'] = rule # 將解析後的內文用 dict 的形式新增到 data 變數裡\n",
    "    sleep(2) # 爬蟲的禮貌，好好休息"
   ]
  },
  {
   "cell_type": "markdown",
   "metadata": {},
   "source": [
    "## 資料匯出 / 顯示爬取資料"
   ]
  },
  {
   "cell_type": "code",
   "execution_count": null,
   "metadata": {},
   "outputs": [],
   "source": [
    "data"
   ]
  }
 ],
 "metadata": {
  "kernelspec": {
   "display_name": "Python 3",
   "language": "python",
   "name": "python3"
  },
  "language_info": {
   "codemirror_mode": {
    "name": "ipython",
    "version": 3
   },
   "file_extension": ".py",
   "mimetype": "text/x-python",
   "name": "python",
   "nbconvert_exporter": "python",
   "pygments_lexer": "ipython3",
   "version": "3.8.3"
  }
 },
 "nbformat": 4,
 "nbformat_minor": 4
}
